{
  "cells": [
    {
      "cell_type": "markdown",
      "metadata": {},
      "source": [
        "# Markov Chain Monte Carlo With Turing\n",
        "\n",
        "## Overview\n",
        "\n",
        "This tutorial will give some examples of using `Turing.jl` and Markov\n",
        "Chain Monte Carlo to sample from posterior distributions.\n",
        "\n",
        "## Setup"
      ],
      "id": "d5aff0b8-e018-40be-b70c-97bce3a764b7"
    },
    {
      "cell_type": "code",
      "execution_count": 1,
      "metadata": {},
      "outputs": [],
      "source": [
        "using Turing\n",
        "using Distributions\n",
        "using Plots\n",
        "default(fmt = :png) # the tide gauge data is long, this keeps images a manageable size\n",
        "using LaTeXStrings\n",
        "using StatsPlots\n",
        "using Measures\n",
        "using StatsBase\n",
        "using Optim\n",
        "using Random\n",
        "using DataFrames\n",
        "using DataFramesMeta\n",
        "using Dates\n",
        "using CSV"
      ],
      "id": "4"
    },
    {
      "cell_type": "markdown",
      "metadata": {},
      "source": [
        "As this tutorial involves random number generation, we will set a random\n",
        "seed to ensure reproducibility."
      ],
      "id": "fcdbba25-e711-4fbe-afe5-7a9116bbe9fc"
    },
    {
      "cell_type": "code",
      "execution_count": 1,
      "metadata": {},
      "outputs": [],
      "source": [
        "\n",
        "Random.seed!(1);"
      ],
      "id": "6"
    },
    {
      "cell_type": "markdown",
      "metadata": {},
      "source": [
        "## Fitting A Linear Regression Model\n",
        "\n",
        "Let’s start with a simple example: fitting a linear regression model to\n",
        "simulated data.\n",
        "\n",
        "> **Positive Control Tests**\n",
        ">\n",
        "> Simulating data with a known data-generating process and then trying\n",
        "> to obtain the parameters for that process is an important step in any\n",
        "> workflow.\n",
        "\n",
        "### Simulating Data\n",
        "\n",
        "The data-generating process for this example will be: $$\n",
        "\\begin{gather}\n",
        "y = 5 + 2x + \\varepsilon \\\\\n",
        "\\varepsilon \\sim \\text{Normal}(0, 3),\n",
        "\\end{gather}\n",
        "$$ where $\\varepsilon$ is so-called “white noise”, which adds\n",
        "stochasticity to the data set. The generated dataset is shown in\n",
        "<a href=\"#fig-scatter-regression\" class=\"quarto-xref\">Figure 1</a>."
      ],
      "id": "18b8427b-8519-4f54-ba29-75d179183f69"
    },
    {
      "cell_type": "code",
      "execution_count": 1,
      "metadata": {},
      "outputs": [],
      "source": [],
      "id": "cell-fig-scatter-regression"
    },
    {
      "cell_type": "markdown",
      "metadata": {},
      "source": [
        "### Model Specification\n",
        "\n",
        "The statistical model for a standard linear regression problem is $$\n",
        "\\begin{gather}\n",
        "y = a + bx + \\varepsilon \\\\\n",
        "\\varepsilon \\sim \\text{Normal}(0, \\sigma).\n",
        "\\end{gather}\n",
        "$$\n",
        "\n",
        "Rearranging, we can rewrite the likelihood function as:\n",
        "$$y \\sim \\text{Normal}(\\mu, \\sigma),$$ where $\\mu = a + bx$. This means\n",
        "that we have three parameters to fit: $a$, $b$, and $\\sigma^2$.\n",
        "\n",
        "Next, we need to select priors on our parameters. We’ll use relatively\n",
        "generic distributions to avoid using the information we have (since we\n",
        "generated the data ourselves), but in practice, we’d want to use any\n",
        "relevant information that we had from our knowledge of the problem.\n",
        "Let’s use relatively diffuse normal distributions for the trend\n",
        "parameters $a$ and $b$ and a half-normal distribution (a normal\n",
        "distribution truncated at 0, to only allow positive values) for the\n",
        "variance $\\sigma^2$, as recommended by Gelman (2006).\n",
        "\n",
        "$$\n",
        "\\begin{gather}\n",
        "a \\sim \\text{Normal(0, 10)} \\\\\n",
        "b \\sim \\text{Normal(0, 10)} \\\\\n",
        "\\sigma \\sim \\text{Half-Normal}(0, 25)\n",
        "\\end{gather}\n",
        "$$\n",
        "\n",
        "### Using Turing\n",
        "\n",
        "#### Coding the Model\n",
        "\n",
        "`Turing.jl` uses the `@model` macro to specify the model function. We’ll\n",
        "follow the setup in the [Turing\n",
        "documentation](https://turinglang.org/dev/tutorials/05-linear-regression).\n",
        "\n",
        "To specify distributions on parameters (and the data, which can be\n",
        "thought of as uncertain parameters in Bayesian statistics), use a tilde\n",
        "`~`, and use equals `=` for transformations (which we don’t have in this\n",
        "case)."
      ],
      "id": "9575a576-7430-4634-99dd-ea97bf9ac64b"
    },
    {
      "cell_type": "code",
      "execution_count": 1,
      "metadata": {},
      "outputs": [
        {
          "output_type": "display_data",
          "metadata": {},
          "data": {
            "text/plain": [
              "linear_regression (generic function with 2 methods)"
            ]
          }
        }
      ],
      "source": [
        "\n",
        "@model function linear_regression(x, y)\n",
        "    # set priors\n",
        "    σ ~ truncated(Normal(0, 25); lower=0)\n",
        "    a ~ Normal(0, 10)\n",
        "    b ~ Normal(0, 10)\n",
        "\n",
        "    # compute the likelihood\n",
        "    for i = 1:length(y)\n",
        "        # compute the mean value for the data point\n",
        "        μ = a + b * x[i]\n",
        "        y[i] ~ Normal(μ, σ)\n",
        "    end\n",
        "end"
      ],
      "id": "10"
    },
    {
      "cell_type": "markdown",
      "metadata": {},
      "source": [
        "#### Fitting The Model\n",
        "\n",
        "Now we can call the sampler to draw from the posterior. We’ll use the\n",
        "[No-U-Turn\n",
        "sampler](https://en.wikipedia.org/wiki/Hamiltonian_Monte_Carlo#No_U-Turn_Sampler)\n",
        "(Hoffman & Gelman, 2014), which is a Hamiltonian Monte Carlo algorithm\n",
        "(a different category of MCMC sampler than the Metropolis-Hastings\n",
        "algorithm discussed in class). We’ll also use 4 chains so we can test\n",
        "that the chains are well-mixed, and each chain will be run for 5,000\n",
        "iterations[1]\n",
        "\n",
        "[1] Hamiltonian Monte Carlo samplers often need to be run for fewer\n",
        "iterations than Metropolis-Hastings samplers, as the exploratory step\n",
        "uses information about the gradient of the statistical model, versus the\n",
        "random walk of Metropolis-Hastings. The disadvantage is that this\n",
        "gradient information must be available, which is not always the case for\n",
        "external simulation models. Simulation models coded in Julia can usually\n",
        "be automatically differentiated by Turing’s tools, however."
      ],
      "id": "2ecc8004-50ca-4b1f-bba4-e42b4e2e213b"
    },
    {
      "cell_type": "code",
      "execution_count": 1,
      "metadata": {},
      "outputs": [
        {
          "output_type": "display_data",
          "metadata": {},
          "data": {
            "text/html": [
              "<pre>Chains MCMC chain (5000×15×4 Array{Float64, 3}):\n",
              "\n",
              "Iterations        = 1001:1:6000\n",
              "Number of chains  = 4\n",
              "Samples per chain = 5000\n",
              "Wall duration     = 6.25 seconds\n",
              "Compute duration  = 5.16 seconds\n",
              "parameters        = σ, a, b\n",
              "internals         = lp, n_steps, is_accept, acceptance_rate, log_density, hamiltonian_energy, hamiltonian_energy_error, max_hamiltonian_energy_error, tree_depth, numerical_error, step_size, nom_step_size\n",
              "\n",
              "Summary Statistics\n",
              " <span class=\"ansi-bold\"> parameters </span> <span class=\"ansi-bold\">    mean </span> <span class=\"ansi-bold\">     std </span> <span class=\"ansi-bold\">    mcse </span> <span class=\"ansi-bold\">  ess_bulk </span> <span class=\"ansi-bold\">  ess_tail </span> <span class=\"ansi-bold\">    rhat </span>  ⋯\n",
              " <span class=\"ansi-bright-black-fg\">     Symbol </span> <span class=\"ansi-bright-black-fg\"> Float64 </span> <span class=\"ansi-bright-black-fg\"> Float64 </span> <span class=\"ansi-bright-black-fg\"> Float64 </span> <span class=\"ansi-bright-black-fg\">   Float64 </span> <span class=\"ansi-bright-black-fg\">   Float64 </span> <span class=\"ansi-bright-black-fg\"> Float64 </span>  ⋯\n",
              "\n",
              "           σ    5.3858    0.9845    0.0107   8497.1994   7872.3181    1.0008   ⋯\n",
              "           a    7.3223    2.1355    0.0234   8409.3893   9696.6954    1.0002   ⋯\n",
              "           b    1.8009    0.1893    0.0021   8024.7764   9307.0114    1.0004   ⋯\n",
              "<span class=\"ansi-cyan-fg\">                                                                1 column omitted</span>\n",
              "\n",
              "Quantiles\n",
              " <span class=\"ansi-bold\"> parameters </span> <span class=\"ansi-bold\">    2.5% </span> <span class=\"ansi-bold\">   25.0% </span> <span class=\"ansi-bold\">   50.0% </span> <span class=\"ansi-bold\">   75.0% </span> <span class=\"ansi-bold\">   97.5% </span>\n",
              " <span class=\"ansi-bright-black-fg\">     Symbol </span> <span class=\"ansi-bright-black-fg\"> Float64 </span> <span class=\"ansi-bright-black-fg\"> Float64 </span> <span class=\"ansi-bright-black-fg\"> Float64 </span> <span class=\"ansi-bright-black-fg\"> Float64 </span> <span class=\"ansi-bright-black-fg\"> Float64 </span>\n",
              "\n",
              "           σ    3.8766    4.6898    5.2508    5.9228    7.6846\n",
              "           a    3.0432    5.9478    7.3204    8.7243   11.4744\n",
              "           b    1.4259    1.6789    1.8005    1.9222    2.1771\n",
              "</pre>"
            ]
          }
        }
      ],
      "source": [
        "# set up the sampler\n",
        "model = linear_regression(x, y)\n",
        "n_chains = 4\n",
        "n_per_chain = 5000\n",
        "chain = sample(model, NUTS(), MCMCThreads(), n_per_chain, n_chains, drop_warmup=true)\n",
        "@show chain"
      ],
      "id": "12"
    },
    {
      "cell_type": "markdown",
      "metadata": {},
      "source": [
        "How can we interpret the output? The first parts of the summary\n",
        "statistics are straightforward: we get the mean, standard deviation, and\n",
        "Monte Carlo standard error (`mcse`) of each parameter. We also get\n",
        "information about the effective sample size (ESS)[1] and $\\hat{R}$,\n",
        "which measures the ratio of within-chain variance and across-chain\n",
        "variance as a check for convergence[2].\n",
        "\n",
        "In this case, we can see that we were generally able to recover the\n",
        "“true” data-generating values of $\\sigma = 4$ and $b = 2$, but $a$ is\n",
        "slightly off (the mean is 3, rather than the data-generating value of\n",
        "5). In fact, there is substantial uncertainty about $a$, with a 95%\n",
        "credible interval of $(3.1, 11.4)$ (compared to $(1.4, 2.2)$ for $b$).\n",
        "This isn’t surprising: given the variance of the noise $\\sigma^2$, there\n",
        "are many different intercepts which could fit within that spread.\n",
        "\n",
        "Let’s now plot the chains for visual inspection.\n",
        "\n",
        "[1] The ESS reflects the efficiency of the sampler: this is an estimate\n",
        "of the equivalent number of independent samples; the more correlated the\n",
        "samples, the lower the ESS.\n",
        "\n",
        "[2] The closer $\\hat{R}$ is to 1, the better."
      ],
      "id": "7158ac48-0965-447e-8910-11995bcfc1ec"
    },
    {
      "cell_type": "code",
      "execution_count": 1,
      "metadata": {},
      "outputs": [],
      "source": [
        "plot(chain)"
      ],
      "id": "cell-fig-chains-regression"
    },
    {
      "cell_type": "markdown",
      "metadata": {},
      "source": [
        "We can see from\n",
        "<a href=\"#fig-chains-regression\" class=\"quarto-xref\">Figure 2</a> that\n",
        "our chains mixed well and seem to have converged to similar\n",
        "distributions! The traceplots have a “hairy caterpiller” appearance,\n",
        "suggesting relatively little autocorrelation. We can also see how much\n",
        "more uncertainty there is with the intercept $a$, while the slope $b$ is\n",
        "much more constrained.\n",
        "\n",
        "Another interesting comparison we can make is with the\n",
        "maximum-likelihood estimate (MLE), which we can obtain through\n",
        "optimization."
      ],
      "id": "2a5a2f27-c57c-4920-b2a9-4dcfa1bbd399"
    },
    {
      "cell_type": "code",
      "execution_count": 1,
      "metadata": {},
      "outputs": [],
      "source": [
        "mle_model = linear_regression(x, y)\n",
        "mle = optimize(mle_model, MLE())\n",
        "coef(mle)"
      ],
      "id": "16"
    },
    {
      "cell_type": "markdown",
      "metadata": {},
      "source": [
        "We could also get the maximum *a posteriori* (MAP) estimate, which\n",
        "includes the prior density, by replacing `MLE()` with `MAP()`.\n",
        "\n",
        "### Model Diagnostics and Posterior Predictive Checks\n",
        "\n",
        "One advantage of the Bayesian modeling approach here is that we have\n",
        "access to a *generative model*, or a model which we can use to generate\n",
        "datasets. This means that we can now use Monte Carlo simulation,\n",
        "sampling from our posteriors, to look at how uncertainty in the\n",
        "parameter estimates propagates through the model. Let’s write a function\n",
        "which gets samples from the MCMC chains and generates datasets."
      ],
      "id": "b9c2f531-bb84-4b60-9188-d24d5f1bff7e"
    },
    {
      "cell_type": "code",
      "execution_count": 1,
      "metadata": {},
      "outputs": [
        {
          "output_type": "display_data",
          "metadata": {},
          "data": {
            "text/plain": [
              "mc_predict_regression (generic function with 1 method)"
            ]
          }
        }
      ],
      "source": [
        "function mc_predict_regression(x, chain)\n",
        "    # get the posterior samples\n",
        "    a = Array(group(chain, :a))\n",
        "    b = Array(group(chain, :b))\n",
        "    σ = Array(group(chain, :σ))\n",
        "\n",
        "    # loop and generate alternative realizations\n",
        "    μ = a' .+ x * b'\n",
        "    y = zeros((length(x), length(a)))\n",
        "    for i = 1:length(a)\n",
        "        y[:, i] = rand.(Normal.(μ[:, i], σ[i]))\n",
        "    end\n",
        "    return y\n",
        "end"
      ],
      "id": "18"
    },
    {
      "cell_type": "markdown",
      "metadata": {},
      "source": [
        "Now we can generate a predictive interval and median and compare to the\n",
        "data."
      ],
      "id": "69c08bd9-1bbe-43f8-97af-bd8f8fef3e9f"
    },
    {
      "cell_type": "code",
      "execution_count": 1,
      "metadata": {},
      "outputs": [
        {
          "output_type": "display_data",
          "metadata": {},
          "data": {
            "text/plain": [
              "21×20000 Matrix{Float64}:\n",
              "  7.79596   20.1959   7.9299    5.13623  …  19.4299   6.4165    9.12683\n",
              " -0.302011  10.7975  -2.18332   3.36265     14.574    6.2009    7.13161\n",
              " 23.3908    14.7209   4.38494  15.7897      12.3529   6.74688  13.0819\n",
              "  7.89445   13.0295  12.1418   10.6287      25.908   16.7987    6.9323\n",
              " 27.3525    14.476   12.3627   20.7909      18.6918   3.03541  24.996\n",
              " 13.7448    17.3157  24.9079   28.326    …  20.7976   9.42544  21.1482\n",
              " 25.883     36.3196  13.8359   14.1202      24.7914  21.1872   26.3175\n",
              " 13.6528    12.2218  18.4544   17.9854      11.0375  17.106    17.9101\n",
              " 17.3555    25.5037  21.7402   20.2539      17.8633  20.3939   21.9678\n",
              " 17.2484    17.8676  31.8723   23.8969      29.9335  20.512    19.4059\n",
              "  ⋮                                      ⋱                     \n",
              " 32.4797    39.9771  38.7365   30.4004      30.4432  31.0244   36.9779\n",
              " 24.3432    35.2726  29.5895   31.1638      21.0732  18.8629   22.5798\n",
              " 39.4759    23.0576  25.1498   35.2212      35.5964  26.7561   35.0184\n",
              " 23.6893    44.3171  36.2901   33.5608   …  38.3512  42.1442   24.07\n",
              " 31.7503    35.3636  26.7346   35.6234      42.3403  39.5029   35.1565\n",
              " 34.3006    26.2123  36.1949   42.5345      30.0027  38.9232   36.9146\n",
              " 30.3765    49.8715  39.5922   42.082       36.674   49.074    34.307\n",
              " 28.4471    42.6885  40.8327   46.952       34.0547  45.5708   42.6106\n",
              " 45.1023    39.2439  41.1137   30.6755   …  39.5462  38.2909   31.3747"
            ]
          }
        }
      ],
      "source": [
        "x_pred = 0:20\n",
        "y_pred = mc_predict_regression(x_pred, chain)"
      ],
      "id": "20"
    },
    {
      "cell_type": "markdown",
      "metadata": {},
      "source": [
        "Notice the dimension of `y_pred`: we have 20,000 columns, because we\n",
        "have 4 chains with 5,000 samples each. If we had wanted to subsample\n",
        "(which might be necessary if we had hundreds of thousands or millions of\n",
        "samples), we could have done that within `mc_linear_regression` before\n",
        "simulation."
      ],
      "id": "85d54b1a-4f9a-45b3-b60c-6f4284bb7df3"
    },
    {
      "cell_type": "code",
      "execution_count": 1,
      "metadata": {},
      "outputs": [],
      "source": [
        "# get the boundaries for the 95% prediction interval and the median\n",
        "y_ci_low = quantile.(eachrow(y_pred), 0.025)\n",
        "y_ci_hi = quantile.(eachrow(y_pred), 0.975)\n",
        "y_med = quantile.(eachrow(y_pred), 0.5)"
      ],
      "id": "22"
    },
    {
      "cell_type": "markdown",
      "metadata": {},
      "source": [
        "Now, let’s plot the prediction interval and median, and compare to the\n",
        "original data."
      ],
      "id": "5dedf332-054b-41b7-a025-d8fbef82416a"
    },
    {
      "cell_type": "code",
      "execution_count": 1,
      "metadata": {},
      "outputs": [],
      "source": [
        "# plot prediction interval\n",
        "plot(x_pred, y_ci_low, fillrange=y_ci_hi, xlabel=L\"$x$\", ylabel=L\"$y$\", fillalpha=0.3, fillcolor=:blue, label=\"95% Prediction Interval\", legend=:topleft, linealpha=0)\n",
        "plot!(x_pred, y_med, color=:blue, label=\"Prediction Median\")\n",
        "scatter!(x, y, color=:red, label=\"Data\")"
      ],
      "id": "cell-fig-prediction-regression"
    },
    {
      "cell_type": "markdown",
      "metadata": {},
      "source": [
        "From\n",
        "<a href=\"#fig-prediction-regression\" class=\"quarto-xref\">Figure 3</a>,\n",
        "it looks like our model might be slightly under-confident, as with 20\n",
        "data points, we would expect 5% of them (or 1 data point) to be outside\n",
        "the 95% prediction interval. It’s hard to tell with only 20 data points,\n",
        "though! We could resolve this by tightening our priors, but this depends\n",
        "on how much information we used to specify them in the first place. The\n",
        "goal shouldn’t be to hit a specific level of uncertainty, but if there\n",
        "is a sound reason to tighten the priors, we could do so.\n",
        "\n",
        "Now let’s look at the residuals from the posterior median and the data.\n",
        "The partial autocorrelations plotted in\n",
        "<a href=\"#fig-residuals-regression\" class=\"quarto-xref\">Figure 4</a> are\n",
        "not fully convincing, as there are large autocorrelation coefficients\n",
        "with long lags, but the dataset is quite small, so it’s hard to draw\n",
        "strong conclusions. We won’t go further down this rabbit hole as we know\n",
        "our data-generating process involved independent noise, but for a real\n",
        "dataset, we might want to try a model specification with autocorrelated\n",
        "errors to compare."
      ],
      "id": "84d3f02f-f630-4da8-8f86-984763b5834f"
    },
    {
      "cell_type": "code",
      "execution_count": 1,
      "metadata": {},
      "outputs": [],
      "source": [
        "# calculate the median predictions and residuals\n",
        "y_pred_data = mc_predict_regression(x, chain)\n",
        "y_med_data = quantile.(eachrow(y_pred_data), 0.5)\n",
        "residuals = y_med_data .- y\n",
        "\n",
        "# plot the residuals and a line to show the zero\n",
        "plot(pacf(residuals, 1:4), line=:stem, marker=:circle, legend=:false, grid=:false, linewidth=2, xlabel=\"Lag\", ylabel=\"Partial Autocorrelation\", markersize=8, tickfontsize=14, guidefontsize=16, legendfontsize=16)\n",
        "hline!([0], linestyle=:dot, color=:red)"
      ],
      "id": "cell-fig-residuals-regression"
    },
    {
      "cell_type": "markdown",
      "metadata": {},
      "source": [
        "## Fitting Extreme Value Models to Tide Gauge Data\n",
        "\n",
        "Let’s now look at an example of fitting an extreme value distribution\n",
        "(namely, a [generalized extreme value\n",
        "distribution](https://en.wikipedia.org/wiki/Generalized_extreme_value_distribution),\n",
        "or GEV) to tide gauge data. GEV distributions have three parameters:\n",
        "\n",
        "-   $\\mu$, the *location* parameter, which reflects the positioning of\n",
        "    the bulk of the GEV distribution;\n",
        "-   $\\sigma$, the *scale* parameter, which reflects the width of the\n",
        "    bulk;\n",
        "-   $\\xi$, the *shape* parameter, which reflects the thickness and\n",
        "    boundedness of the tail.\n",
        "\n",
        "The shape parameter $\\xi$ is often of interest, as there are three\n",
        "classes of GEV distributions corresponding to different signs:\n",
        "\n",
        "-   $\\xi < 0$ means that the distribution is bounded;\n",
        "-   $\\xi = 0$ means that the distribution has a thinner tail, so the\n",
        "    “extreme extremes” are less likely;\n",
        "-   $\\xi > 0$ means that the distribution has a thicker tail.\n",
        "\n",
        "### Load Data\n",
        "\n",
        "First, let’s load the data. We’ll use [data from the University of\n",
        "Hawaii Sea Level Center](https://uhslc.soest.hawaii.edu/datainfo/)\n",
        "(Caldwell et al., 2015) for San Francisco, from 1897-2013. If you don’t\n",
        "have this data and are working with the notebook, download it\n",
        "[here](https://uhslc.soest.hawaii.edu/data/csv/rqds/hourly/h551a.csv).\n",
        "We’ll assume it’s in a `data/` subdirectory, but change the path as\n",
        "needed.\n",
        "\n",
        "The dataset consists of dates and hours and the tide-gauge measurement,\n",
        "in mm. We’ll load the dataset into a `DataFrame`."
      ],
      "id": "aa9a89ee-61cb-41af-a49a-1f5938420310"
    },
    {
      "cell_type": "code",
      "execution_count": 1,
      "metadata": {},
      "outputs": [
        {
          "output_type": "display_data",
          "metadata": {},
          "data": {
            "text/plain": [
              "load_data (generic function with 1 method)"
            ]
          }
        }
      ],
      "source": [
        "function load_data(fname)\n",
        "    date_format = DateFormat(\"yyyy-mm-dd HH:MM:SS\")\n",
        "    df = @chain fname begin\n",
        "        CSV.File(; delim=',', header=false)\n",
        "        DataFrame\n",
        "        rename(\"Column1\" => \"year\",\n",
        "                \"Column2\" => \"month\",\n",
        "                \"Column3\" => \"day\",\n",
        "                \"Column4\" => \"hour\",\n",
        "                \"Column5\" => \"gauge\")\n",
        "        # need to reformat the decimal date in the data file\n",
        "        @transform :datetime = DateTime.(:year, :month, :day, :hour)\n",
        "        # replace -99999 with missing\n",
        "        @transform :gauge = ifelse.(abs.(:gauge) .>= 9999, missing, :gauge)\n",
        "        select(:datetime, :gauge)\n",
        "    end\n",
        "    return df\n",
        "end"
      ],
      "id": "28"
    },
    {
      "cell_type": "code",
      "execution_count": 1,
      "metadata": {},
      "outputs": [],
      "source": [
        "dat = load_data(\"data/h551a.csv\")\n",
        "first(dat, 6)"
      ],
      "id": "f92a1266-eee3-41ee-9f34-5c1956b365f2"
    },
    {
      "cell_type": "code",
      "execution_count": 1,
      "metadata": {},
      "outputs": [],
      "source": [
        "@df dat plot(:datetime, :gauge, label=\"Observations\", bottom_margin=9mm)\n",
        "xaxis!(\"Date\", xrot=30)\n",
        "yaxis!(\"Mean Water Level\")"
      ],
      "id": "cell-fig-raw-data"
    },
    {
      "cell_type": "markdown",
      "metadata": {},
      "source": [
        "Next, we need to detrend the data to remove the impacts of sea-level\n",
        "rise. We do this by removing a one-year moving average, centered on the\n",
        "data point, per the recommendation of Arns et al. (2013)."
      ],
      "id": "d165bad8-cd22-4e37-885e-efef5cbd9dfa"
    },
    {
      "cell_type": "code",
      "execution_count": 1,
      "metadata": {},
      "outputs": [],
      "source": [
        "# calculate the moving average and subtract it off\n",
        "ma_length = 366\n",
        "ma_offset = Int(floor(ma_length/2))\n",
        "moving_average(series,n) = [mean(@view series[i-n:i+n]) for i in n+1:length(series)-n]\n",
        "dat_ma = DataFrame(datetime=dat.datetime[ma_offset+1:end-ma_offset], residual=dat.gauge[ma_offset+1:end-ma_offset] .- moving_average(dat.gauge, ma_offset))\n",
        "\n",
        "# plot\n",
        "@df dat_ma plot(:datetime, :residual, label=\"Detrended Observations\", bottom_margin=9mm)\n",
        "xaxis!(\"Date\", xrot=30)\n",
        "yaxis!(\"Mean Water Level\")"
      ],
      "id": "cell-fig-data-detrend"
    },
    {
      "cell_type": "markdown",
      "metadata": {},
      "source": [
        "The last step in preparing the data is to find the annual maxima. We can\n",
        "do this using the `groupby`, `transform`, and `combine` functions from\n",
        "`DataFrames.jl`, as below."
      ],
      "id": "94fdd06e-21e3-4b46-814d-e35b6f664d8b"
    },
    {
      "cell_type": "code",
      "execution_count": 1,
      "metadata": {},
      "outputs": [],
      "source": [
        "# calculate the annual maxima\n",
        "dat_ma = dropmissing(dat_ma)\n",
        "dat_annmax = combine(dat_ma -> dat_ma[argmax(dat_ma.residual), :],\n",
        "                groupby(DataFrames.transform(dat_ma, :datetime => x->year.(x)), :datetime_function))\n",
        "delete!(dat_annmax, nrow(dat_annmax))\n",
        "\n",
        "# make a histogram of the maxima to see the distribution\n",
        "histogram(dat_annmax.residual, label=false)\n",
        "ylabel!(\"Count\")\n",
        "xlabel!(\"Mean Water Level (mm)\")"
      ],
      "id": "cell-fig-annmax-histogram"
    },
    {
      "cell_type": "markdown",
      "metadata": {},
      "source": [
        "### Fit The Model"
      ],
      "id": "569f381b-1bec-48be-97ed-1e0166adad2b"
    },
    {
      "cell_type": "code",
      "execution_count": 1,
      "metadata": {},
      "outputs": [
        {
          "output_type": "display_data",
          "metadata": {},
          "data": {
            "text/html": [
              "<pre>Chains MCMC chain (5000×15×4 Array{Float64, 3}):\n",
              "\n",
              "Iterations        = 1001:1:6000\n",
              "Number of chains  = 4\n",
              "Samples per chain = 5000\n",
              "Wall duration     = 5.56 seconds\n",
              "Compute duration  = 5.14 seconds\n",
              "parameters        = μ, σ, ξ\n",
              "internals         = lp, n_steps, is_accept, acceptance_rate, log_density, hamiltonian_energy, hamiltonian_energy_error, max_hamiltonian_energy_error, tree_depth, numerical_error, step_size, nom_step_size\n",
              "\n",
              "Summary Statistics\n",
              " <span class=\"ansi-bold\"> parameters </span> <span class=\"ansi-bold\">      mean </span> <span class=\"ansi-bold\">     std </span> <span class=\"ansi-bold\">    mcse </span> <span class=\"ansi-bold\">   ess_bulk </span> <span class=\"ansi-bold\">   ess_tail </span> <span class=\"ansi-bold\">    rh</span> ⋯\n",
              " <span class=\"ansi-bright-black-fg\">     Symbol </span> <span class=\"ansi-bright-black-fg\">   Float64 </span> <span class=\"ansi-bright-black-fg\"> Float64 </span> <span class=\"ansi-bright-black-fg\"> Float64 </span> <span class=\"ansi-bright-black-fg\">    Float64 </span> <span class=\"ansi-bright-black-fg\">    Float64 </span> <span class=\"ansi-bright-black-fg\"> Float</span> ⋯\n",
              "\n",
              "           μ   1257.7511    5.6792    0.0517   12111.6749   13632.2573    1.00 ⋯\n",
              "           σ     57.1490    4.2032    0.0368   13190.6502   13407.5135    1.00 ⋯\n",
              "           ξ      0.0297    0.0624    0.0006   11233.6422   10660.9175    1.00 ⋯\n",
              "<span class=\"ansi-cyan-fg\">                                                               2 columns omitted</span>\n",
              "\n",
              "Quantiles\n",
              " <span class=\"ansi-bold\"> parameters </span> <span class=\"ansi-bold\">      2.5% </span> <span class=\"ansi-bold\">     25.0% </span> <span class=\"ansi-bold\">     50.0% </span> <span class=\"ansi-bold\">     75.0% </span> <span class=\"ansi-bold\">     97.5% </span>\n",
              " <span class=\"ansi-bright-black-fg\">     Symbol </span> <span class=\"ansi-bright-black-fg\">   Float64 </span> <span class=\"ansi-bright-black-fg\">   Float64 </span> <span class=\"ansi-bright-black-fg\">   Float64 </span> <span class=\"ansi-bright-black-fg\">   Float64 </span> <span class=\"ansi-bright-black-fg\">   Float64 </span>\n",
              "\n",
              "           μ   1246.9623   1253.9177   1257.6376   1261.5320   1269.1341\n",
              "           σ     49.6305     54.1836     56.9100     59.8732     65.9955\n",
              "           ξ     -0.0811     -0.0138      0.0258      0.0697      0.1607\n",
              "</pre>"
            ]
          }
        }
      ],
      "source": [
        "@model function gev_annmax(y)               \n",
        "    μ ~ Normal(1000, 100)\n",
        "    σ ~ truncated(Normal(0, 100); lower=0)\n",
        "    ξ ~ Normal(0, 0.5)\n",
        "\n",
        "    y ~ GeneralizedExtremeValue(μ, σ, ξ)\n",
        "end\n",
        "\n",
        "gev_model = gev_annmax(dat_annmax.residual)\n",
        "n_chains = 4\n",
        "n_per_chain = 5000\n",
        "gev_chain = sample(gev_model, NUTS(), MCMCThreads(), n_per_chain, n_chains; drop_warmup=true)\n",
        "@show gev_chain"
      ],
      "id": "38"
    },
    {
      "cell_type": "code",
      "execution_count": 1,
      "metadata": {},
      "outputs": [],
      "source": [
        "plot(gev_chain)"
      ],
      "id": "cell-fig-gev-traceplot"
    },
    {
      "cell_type": "markdown",
      "metadata": {},
      "source": [
        "From <a href=\"#fig-gev-traceplot\" class=\"quarto-xref\">Figure 8</a>, it\n",
        "looks like all of the chains have converged to the same distribution;\n",
        "the Gelman-Rubin diagnostic is also close to 1 for all parameters. Next,\n",
        "we can look at a corner plot to see how the parameters are correlated."
      ],
      "id": "e704545b-ec5e-4930-96bf-f6695591af03"
    },
    {
      "cell_type": "code",
      "execution_count": 1,
      "metadata": {},
      "outputs": [],
      "source": [
        "corner(gev_chain)"
      ],
      "id": "cell-fig-gev-corner"
    },
    {
      "cell_type": "markdown",
      "metadata": {},
      "source": [
        "<a href=\"#fig-gev-corner\" class=\"quarto-xref\">Figure 9</a> suggests that\n",
        "the location and scale parameters $\\mu$ and $\\sigma$ are positively\n",
        "correlated. This makes some intuitive sense, as increasing the location\n",
        "parameter shifts the bulk of the distribution in a positive direction,\n",
        "and the increasing scale parameter then increases the likelihood of\n",
        "lower values. However, if these parameters are increased, the shape\n",
        "parameter $\\xi$ decreases, as the tail of the GEV does not need to be as\n",
        "thick due to the increased proximity of outliers to the bulk.\n",
        "\n",
        "Arns, A., Wahl, T., Haigh, I. D., Jensen, J., & Pattiaratchi, C. (2013).\n",
        "<span class=\"nocase\">Estimating extreme water level probabilities: A\n",
        "comparison of the direct methods and recommendations for best\n",
        "practise</span>. *Coast. Eng.*, *81*, 51–66.\n",
        "<https://doi.org/10.1016/j.coastaleng.2013.07.003>\n",
        "\n",
        "Caldwell, P. C., Merrifield, M. A., & Thompson, P. R. (2015). Sea level\n",
        "measured by tide gauges from global oceans — the joint archive for sea\n",
        "level holdings (NCEI accession 0019568). NOAA National Centers for\n",
        "Environmental Information (NCEI). <https://doi.org/10.7289/V5V40S7W>\n",
        "\n",
        "Gelman, A. (2006). Prior distributions for variance parameters in\n",
        "hierarchical models (comment on article by Browne and Draper). *Bayesian\n",
        "Anal.*, *1*(3), 515–533. <https://doi.org/10.1214/06-BA117A>\n",
        "\n",
        "Hoffman, M. D., & Gelman, A. (2014). The No-U-Turn sampler: Adaptively\n",
        "setting path lengths in Hamiltonian Monte Carlo. *J. Mach. Learn. Res.*,\n",
        "*15*(47), 1593–1623."
      ],
      "id": "bd9fafe2-3bd0-4e22-be5f-cfb634132177"
    }
  ],
  "nbformat": 4,
  "nbformat_minor": 5,
  "metadata": {
    "kernel_info": {
      "name": "julia"
    },
    "kernelspec": {
      "name": "julia",
      "display_name": "Julia",
      "language": "julia"
    },
    "language_info": {
      "name": "julia",
      "codemirror_mode": "julia",
      "version": "1.10.4"
    }
  }
}