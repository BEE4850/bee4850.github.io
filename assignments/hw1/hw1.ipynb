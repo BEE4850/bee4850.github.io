{
  "cells": [
    {
      "cell_type": "raw",
      "metadata": {},
      "source": [
        "---\n",
        "title: Homework 1\n",
        "format:\n",
        "  html:\n",
        "    warning: true\n",
        "    error: true\n",
        "  pdf:\n",
        "    warning: true\n",
        "    error: true\n",
        "  ipynb:\n",
        "    warning: true\n",
        "    error: true\n",
        "---"
      ],
      "id": "4e0ea423"
    },
    {
      "cell_type": "markdown",
      "metadata": {},
      "source": [
        "::: {.content-visible when-format=\"ipynb\"}\n",
        "**Name**:\n",
        "\n",
        "**ID**:\n",
        ":::\n",
        "\n",
        "::: {.callout-important icon=false}\n",
        "### Due Date\n",
        "\n",
        "Friday, 2/9/24, 9:00pm\n",
        ":::\n",
        "\n",
        "## Overview\n",
        "\n",
        "### Instructions\n",
        "\n",
        "- Problems 1-4 consist of a series of code snippets for you to interpret and debug. For Problems 1-3, you will be asked to identify relevant error(s) and fix the code. For Problem 4, the code works as intended; your goal is to identify the code's purpose by following its logic.\n",
        "- Problem 5 asks you to rewrite a \"script\" into a function, which you will then use to conduct an experiment.\n",
        "\n",
        "### Load Environment\n",
        "\n",
        "The following code loads the environment and makes sure all needed packages are installed. This should be at the start of most Julia scripts.\n"
      ],
      "id": "c8f5e7ac"
    },
    {
      "cell_type": "code",
      "metadata": {},
      "source": [
        "import Pkg\n",
        "Pkg.activate(@__DIR__)\n",
        "Pkg.instantiate()"
      ],
      "id": "eaeffe83",
      "execution_count": null,
      "outputs": []
    },
    {
      "cell_type": "markdown",
      "metadata": {},
      "source": [
        "## Problems (Total: 100 Points)\n",
        "\n",
        "### Problem 1 (20 points)\n",
        "\n",
        "You've been tasked with writing code to identify the minimum value in an array. You cannot use a predefined function. Your colleague suggested the function below, but it does not return the minimum value.\n"
      ],
      "id": "90bd412a"
    },
    {
      "cell_type": "code",
      "metadata": {},
      "source": [
        "function minimum(array)\n",
        "    min_value = 0\n",
        "    for i in 1:length(array)\n",
        "        if array[i] < min_value\n",
        "            min_value = array[i]\n",
        "        end\n",
        "    end\n",
        "    return min_value\n",
        "end\n",
        "\n",
        "array_values = [89, 90, 95, 100, 100, 78, 99, 98, 100, 95]\n",
        "@show minimum(array_values);"
      ],
      "id": "ddcadf3c",
      "execution_count": null,
      "outputs": []
    },
    {
      "cell_type": "markdown",
      "metadata": {},
      "source": [
        "#### Problem 1.1 (10 points)\n",
        "\n",
        "Describe the logic error.\n",
        "\n",
        "#### Problem 1.2 (5 points)\n",
        "\n",
        "Write a fixed version of the function.\n",
        "\n",
        "#### Problem 1.3 (5 points)\n",
        "\n",
        "Use your fixed function to find the minimum value of `array_values`.\n",
        "\n",
        "### Problem 2 (20 points)\n",
        "\n",
        "Your team is trying to compute the average grade for your class, but the following code produces an error.\n"
      ],
      "id": "e412622f"
    },
    {
      "cell_type": "code",
      "metadata": {},
      "source": [
        "student_grades = [89, 90, 95, 100, 100, 78, 99, 98, 100, 95]\n",
        "function class_average(grades)\n",
        "  average_grade = mean(student_grades)\n",
        "  return average_grade\n",
        "end\n",
        "\n",
        "@show average_grade;"
      ],
      "id": "acadd4f7",
      "execution_count": null,
      "outputs": []
    },
    {
      "cell_type": "markdown",
      "metadata": {},
      "source": [
        "#### Problem 2.1 (10 points)\n",
        "\n",
        "Describe the logic and/or syntax error.\n",
        "\n",
        "#### Problem 2.2 (5 points)\n",
        "\n",
        "Write a fixed version of the code.\n",
        "\n",
        "#### Problem 2.3 (5 points)\n",
        "\n",
        "Use your fixed code to compute the average grade for the class.\n",
        "\n",
        "### Problem 3 (20 points)\n",
        "\n",
        "Your team has collected data on the mileage of different car models. You want to calculate the average mileage per gallon (MPG) for the different cars, but your code produces the same value for all of the vehicles, which makes you suspicious.\n"
      ],
      "id": "ad88ea7d"
    },
    {
      "cell_type": "code",
      "metadata": {},
      "source": [
        "function calculate_MPG((miles, gallons))\n",
        "    return miles / gallons\n",
        "end\n",
        "\n",
        "car_miles =  [(334, 11), (289, 15), (306, 12), (303, 20), (350, 20), (294, 14)]\n",
        "\n",
        "mpg = zeros(length(car_miles))\n",
        "\n",
        "for i in 1:length(car_miles)\n",
        "    miles = car_miles[1][1]\n",
        "    gallon = car_miles[1][2]\n",
        "    mpg[i] = calculate_MPG((miles, gallon))\n",
        "end\n",
        "@show mpg;"
      ],
      "id": "830adcea",
      "execution_count": null,
      "outputs": []
    },
    {
      "cell_type": "markdown",
      "metadata": {},
      "source": [
        "#### Problem 3.1 (10 points)\n",
        "\n",
        "Describe the logic error.\n",
        "\n",
        "#### Problem 3.2 (5 points)\n",
        "\n",
        "Write a fixed version of the code.\n",
        "\n",
        "#### Problem 3.3 (5 points)\n",
        "\n",
        "Use your fixed code to compute the MPGs.\n",
        "\n",
        "### Problem 4 (20 points)\n",
        "\n",
        "You've been handed some code to analyze. The original coder was not very considerate of other potential users: the function is called `mystery_function` and there are no comments explaining the purpose of the code. It appears to take in an array and return some numbers, and you've been assured that the code works as intended.\n"
      ],
      "id": "f2fecb17"
    },
    {
      "cell_type": "code",
      "metadata": {},
      "source": [
        "function mystery_function(values)\n",
        "    y = []\n",
        "    for v in values\n",
        "        if !(v in y)\n",
        "            append!(y, v)\n",
        "        end\n",
        "    end\n",
        "    return y\n",
        "end\n",
        "\n",
        "list_of_values = [1, 2, 3, 4, 3, 4, 2, 1]\n",
        "@show mystery_function(list_of_values);"
      ],
      "id": "e79f71c6",
      "execution_count": null,
      "outputs": []
    },
    {
      "cell_type": "markdown",
      "metadata": {},
      "source": [
        "#### Problem 4.1 (10 points)\n",
        "\n",
        "Explain the purpose of `mystery_function`.\n",
        "\n",
        "#### Problem 4.2 (10 points)\n",
        "\n",
        "Add comments to the code, explaining why and how it works. Refer to [\"Best Practices for Writing Code Comments\"](https://stackoverflow.blog/2021/12/23/best-practices-for-writing-code-comments/), and remember that bad comments can be just as bad as no comments at all. You do not need to add comments to every line (in fact, this is very bad practice), but you should note the *purpose* of every \"section\" of code, and add comments explaining any code sequences that you don't immediately understand.\n"
      ],
      "id": "a5f81238"
    }
  ],
  "metadata": {
    "kernelspec": {
      "name": "julia-1.8",
      "language": "julia",
      "display_name": "Julia 1.8.2"
    }
  },
  "nbformat": 4,
  "nbformat_minor": 5
}